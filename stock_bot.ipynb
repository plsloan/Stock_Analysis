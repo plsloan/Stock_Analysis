{
 "metadata": {
  "language_info": {
   "codemirror_mode": {
    "name": "ipython",
    "version": 3
   },
   "file_extension": ".py",
   "mimetype": "text/x-python",
   "name": "python",
   "nbconvert_exporter": "python",
   "pygments_lexer": "ipython3",
   "version": "3.8.5-final"
  },
  "orig_nbformat": 2,
  "kernelspec": {
   "name": "python3",
   "display_name": "Python 3.8.5 64-bit ('ai': conda)",
   "metadata": {
    "interpreter": {
     "hash": "7f445e17d92c71fcfb31b1bfa6a0589188ff9d1236aa092e67749cc1b75fd87d"
    }
   }
  }
 },
 "nbformat": 4,
 "nbformat_minor": 2,
 "cells": [
  {
   "cell_type": "code",
   "execution_count": 1,
   "metadata": {},
   "outputs": [],
   "source": [
    "from datetime import datetime as dt\n",
    "import numpy as np\n",
    "import pandas as pd"
   ]
  },
  {
   "cell_type": "code",
   "execution_count": 2,
   "metadata": {},
   "outputs": [],
   "source": [
    "from db.utils import db, initialize_stocks\n",
    "from utils import run_stock_bot"
   ]
  },
  {
   "cell_type": "code",
   "execution_count": 3,
   "metadata": {},
   "outputs": [],
   "source": [
    "if db.Stocks.count_documents({}) == 0:\n",
    "    initialize_stocks()"
   ]
  },
  {
   "cell_type": "code",
   "execution_count": 4,
   "metadata": {
    "tags": []
   },
   "outputs": [
    {
     "output_type": "stream",
     "name": "stdout",
     "text": [
      "\n",
      "Commands\n",
      "--------\n",
      " * delete records - delete all stock records\n",
      " * delete stocks - delete all stock\n",
      " * get suggestions - prints all\n",
      " * print stocks - prints stocks from a given exchange\n",
      " * update records - update stock records\n",
      " * cls - clears terminal\n",
      " * help - prints available commands\n",
      " * exit - exit app\n",
      "\n",
      "- ABDC: No data found, symbol may be delisted\n",
      "- ABEOW: No data found, symbol may be delisted\n",
      "- AGN: No data found, symbol may be delisted\n",
      "- AGNCB: No data found, symbol may be delisted\n"
     ]
    }
   ],
   "source": [
    "run_stock_bot()"
   ]
  },
  {
   "cell_type": "code",
   "execution_count": null,
   "metadata": {},
   "outputs": [],
   "source": []
  }
 ]
}